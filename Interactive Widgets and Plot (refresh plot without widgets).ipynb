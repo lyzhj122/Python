{
 "cells": [
  {
   "cell_type": "code",
   "execution_count": 2,
   "metadata": {},
   "outputs": [],
   "source": [
    "# The normal imports\n",
    "import numpy as np\n",
    "from numpy.random import randn\n",
    "import pandas as pd\n",
    "import ipywidgets as widgets\n",
    "from ipywidgets import interact, interactive, fixed, interact_manual\n",
    "\n",
    "# Import the stats librayr from numpy\n",
    "from scipy import stats\n",
    "\n",
    "# These are the plotting modules adn libraries we'll use:\n",
    "import matplotlib as mpl\n",
    "import matplotlib.pyplot as plt\n",
    "import seaborn as sns"
   ]
  },
  {
   "cell_type": "code",
   "execution_count": 4,
   "metadata": {},
   "outputs": [
    {
     "data": {
      "application/vnd.jupyter.widget-view+json": {
       "model_id": "a07aee6f0fa246e9a617650827812181",
       "version_major": 2,
       "version_minor": 0
      },
      "text/plain": [
       "VBox(children=(HBox(children=(Dropdown(description='Number:', options=(('4', 4), ('8', 8), ('10', 10)), value=…"
      ]
     },
     "metadata": {},
     "output_type": "display_data"
    }
   ],
   "source": [
    "%matplotlib inline\n",
    "\n",
    "from IPython.display import clear_output\n",
    "from ipywidgets import interactive\n",
    "from ipywidgets import IntSlider, Output\n",
    "from IPython.display import display\n",
    "from ipywidgets import Layout\n",
    "\n",
    "\n",
    "plt.ioff()\n",
    "ax = plt.gca()\n",
    "\n",
    "\n",
    "button = widgets.Button(description=\"Click Me!\")\n",
    "drop = widgets.Dropdown(options=[('4',4), ('8',8), ('10',10)], description='Number:', disabled=False)\n",
    "out=widgets.Output(layout=Layout(height='300px', width = '400px',border='solid'))\n",
    "#out = widgets.Output()\n",
    "vbox=widgets.HBox(children=(out,drop,button))\n",
    "vbox1=widgets.HBox(children=(drop,button))\n",
    "vbox2=widgets.VBox(children=(vbox1,out))\n",
    "display(vbox2)\n",
    "\n",
    "\n",
    "def on_click_plot(n):     \n",
    "    ax.clear()\n",
    "    sample = np.random.randint(1,10,drop.value)\n",
    "    ax.plot(sample)\n",
    "    with out:    \n",
    "        clear_output(wait=True)\n",
    "        display(ax.figure)\n",
    "        print('click sample=',sample) \n",
    "\n",
    "button.on_click(on_click_plot)\n"
   ]
  },
  {
   "cell_type": "code",
   "execution_count": null,
   "metadata": {},
   "outputs": [],
   "source": []
  }
 ],
 "metadata": {
  "kernelspec": {
   "display_name": "Python 3",
   "language": "python",
   "name": "python3"
  },
  "language_info": {
   "codemirror_mode": {
    "name": "ipython",
    "version": 3
   },
   "file_extension": ".py",
   "mimetype": "text/x-python",
   "name": "python",
   "nbconvert_exporter": "python",
   "pygments_lexer": "ipython3",
   "version": "3.6.5"
  }
 },
 "nbformat": 4,
 "nbformat_minor": 2
}
