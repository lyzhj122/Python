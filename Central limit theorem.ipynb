{
 "cells": [
  {
   "cell_type": "markdown",
   "metadata": {},
   "source": [
    "*This demo shows Central limit theorem\n",
    "\n",
    "In probability theory, the central limit theorem (CLT) establishes that, in some situations, when independent random variables are added, their properly normalized sum tends toward a normal distribution (informally a \"bell curve\") even if the original variables themselves are not normally distributed. The theorem is a key (\"central\") concept in probability theory because it implies that probabilistic and statistical methods that work for normal distributions can be applicable to many problems involving other types of distributions.\n",
    "\n",
    "url = \"https://en.wikipedia.org/wiki/Central_limit_theorem\"\n"
   ]
  },
  {
   "cell_type": "code",
   "execution_count": 108,
   "metadata": {},
   "outputs": [],
   "source": [
    "import numpy as np\n",
    "import pandas as pd\n",
    "from matplotlib import pyplot as plt\n",
    "%matplotlib inline"
   ]
  },
  {
   "cell_type": "code",
   "execution_count": 112,
   "metadata": {},
   "outputs": [
    {
     "data": {
      "text/plain": [
       "array([[2, 3, 6, ..., 9, 7, 8],\n",
       "       [2, 3, 4, ..., 5, 5, 3],\n",
       "       [2, 1, 1, ..., 1, 7, 6],\n",
       "       ...,\n",
       "       [8, 5, 1, ..., 4, 4, 4],\n",
       "       [6, 2, 1, ..., 8, 8, 8],\n",
       "       [3, 6, 4, ..., 3, 3, 7]])"
      ]
     },
     "execution_count": 112,
     "metadata": {},
     "output_type": "execute_result"
    }
   ],
   "source": [
    "# Generating a random array which as 4 elements per sample set\n",
    "n = 1000\n",
    "sample = np.random.randint(1,10,(n,20))\n",
    "sample "
   ]
  },
  {
   "cell_type": "code",
   "execution_count": 110,
   "metadata": {},
   "outputs": [],
   "source": [
    "# Get the mean of each sample set\n",
    "sample_mean = np.mean(sample,axis=1)\n",
    "sample_std = np.std(sample,axis=1)\n",
    "#sample_mean\n",
    "#sample_std"
   ]
  },
  {
   "cell_type": "code",
   "execution_count": 111,
   "metadata": {},
   "outputs": [
    {
     "data": {
      "text/plain": [
       "(array([ 1.,  1.,  1.,  1.,  4.,  3.,  4.,  9.,  7., 12., 15., 15., 22.,\n",
       "        19., 29., 36., 26., 40., 38., 28., 40., 48., 55., 61., 41., 47.,\n",
       "        38., 45., 47., 34., 44., 32., 27., 19., 19., 20., 14., 15., 10.,\n",
       "         5.,  6.,  4.,  5.,  6.,  1.,  1.,  2.,  1.,  1.,  1.]),\n",
       " array([32.05 , 32.813, 33.576, 34.339, 35.102, 35.865, 36.628, 37.391,\n",
       "        38.154, 38.917, 39.68 , 40.443, 41.206, 41.969, 42.732, 43.495,\n",
       "        44.258, 45.021, 45.784, 46.547, 47.31 , 48.073, 48.836, 49.599,\n",
       "        50.362, 51.125, 51.888, 52.651, 53.414, 54.177, 54.94 , 55.703,\n",
       "        56.466, 57.229, 57.992, 58.755, 59.518, 60.281, 61.044, 61.807,\n",
       "        62.57 , 63.333, 64.096, 64.859, 65.622, 66.385, 67.148, 67.911,\n",
       "        68.674, 69.437, 70.2  ]),\n",
       " <a list of 50 Patch objects>)"
      ]
     },
     "execution_count": 111,
     "metadata": {},
     "output_type": "execute_result"
    },
    {
     "data": {
      "image/png": "[encoded data removed]",
      "text/plain": [
       "<Figure size 432x288 with 1 Axes>"
      ]
     },
     "metadata": {},
     "output_type": "display_data"
    }
   ],
   "source": [
    "plt.hist(sample_mean,bins=50)\n",
    "plt.plot()"
   ]
  },
  {
   "cell_type": "code",
   "execution_count": null,
   "metadata": {},
   "outputs": [],
   "source": []
  },
  {
   "cell_type": "code",
   "execution_count": null,
   "metadata": {},
   "outputs": [],
   "source": []
  }
 ],
 "metadata": {
  "kernelspec": {
   "display_name": "Python 3",
   "language": "python",
   "name": "python3"
  },
  "language_info": {
   "codemirror_mode": {
    "name": "ipython",
    "version": 3
   },
   "file_extension": ".py",
   "mimetype": "text/x-python",
   "name": "python",
   "nbconvert_exporter": "python",
   "pygments_lexer": "ipython3",
   "version": "3.6.5"
  }
 },
 "nbformat": 4,
 "nbformat_minor": 2
}
